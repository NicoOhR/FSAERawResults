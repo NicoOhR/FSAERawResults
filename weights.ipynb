{
 "cells": [
  {
   "cell_type": "code",
   "execution_count": 46,
   "id": "ff2a5bfb-2e7a-459f-aa42-640f82ad4739",
   "metadata": {},
   "outputs": [
    {
     "name": "stdout",
     "output_type": "stream",
     "text": [
      "Index(['CarNum', 'Team', 'Country', 'CyliE nndgienres',\n",
      "       'Dis( c a ncpl cE gi)enmeent', 'Weight(kg)', 'Weight(lbs)'],\n",
      "      dtype='object')\n"
     ]
    }
   ],
   "source": [
    "import pandas as pd\n",
    "import os\n",
    "\n",
    "os.chdir('/home/nimoor/FSAERawResults')\n",
    "# Load the CSV files\n",
    "csv_38 = pd.read_csv('Csv_Data_w_weight/table_38.csv')\n",
    "csv_39 = pd.read_csv('Csv_Data_w_weight/table_39.csv')  # Skip the first line\n",
    "csv_40 = pd.read_csv('Csv_Data_w_weight/table_40.csv')  # Skip the first line\n",
    "csv_38.drop(columns=['Unnamed: 0'], inplace=True)\n",
    "csv_39.drop(columns=['Unnamed: 0'], inplace=True)\n",
    "csv_40.drop(columns=['Unnamed: 0'], inplace=True)\n",
    "combined_csv = pd.concat([csv_38, csv_39, csv_40], ignore_index=True)\n",
    "\n",
    "print(combined_csv.columns)\n",
    "combined_csv.to_csv('team_information.csv', index=False)"
   ]
  }
 ],
 "metadata": {
  "kernelspec": {
   "display_name": "Python 3 (ipykernel)",
   "language": "python",
   "name": "python3"
  },
  "language_info": {
   "codemirror_mode": {
    "name": "ipython",
    "version": 3
   },
   "file_extension": ".py",
   "mimetype": "text/x-python",
   "name": "python",
   "nbconvert_exporter": "python",
   "pygments_lexer": "ipython3",
   "version": "3.10.12"
  }
 },
 "nbformat": 4,
 "nbformat_minor": 5
}
