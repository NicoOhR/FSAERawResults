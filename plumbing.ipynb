{
 "cells": [
  {
   "cell_type": "code",
   "execution_count": 2,
   "id": "debfed6b-4c92-4563-9574-4a19c13c8dfd",
   "metadata": {},
   "outputs": [],
   "source": [
    "import pdfplumber\n",
    "\n",
    "tables = []\n",
    "\n",
    "with pdfplumber.open(\"Text_Data/fsae_2024_results.pdf\") as pdf:\n",
    "    for page in pdf.pages:\n",
    "        tables.append(page.extract_table())"
   ]
  },
  {
   "cell_type": "code",
   "execution_count": 3,
   "id": "b0cbf19e-38aa-4d75-8405-2a8ba44dbd68",
   "metadata": {
    "scrolled": true
   },
   "outputs": [],
   "source": [
    "import pandas as pd\n",
    "import csv\n",
    "data = tables[1]\n",
    "\n",
    "# Function to reverse and clean up the text\n",
    "# Sometimes necessary because of pdfplumber quirks\n",
    "def clean_text(text):\n",
    "    return ''.join(text.split('\\n'))[::-1]"
   ]
  },
  {
   "cell_type": "code",
   "execution_count": 4,
   "id": "c15faf50-3f1a-4782-b14e-4f8f799cb4e1",
   "metadata": {},
   "outputs": [],
   "source": [
    "\n",
    "# Table 36 is a none type :/ not sure why\n",
    "del tables[36]"
   ]
  },
  {
   "cell_type": "code",
   "execution_count": 5,
   "id": "e503f936-e30f-45b8-8359-2b75078d8663",
   "metadata": {},
   "outputs": [],
   "source": [
    "for i, data in enumerate(tables):    \n",
    "    # Function to reverse and clean up the text\n",
    "    def clean_text(text):\n",
    "        return ''.join(text.split('\\n'))[::-1]\n",
    "    \n",
    "    # File path for the CSV\n",
    "\n",
    "    csv_file_path = 'Csv_Data/table_{}.csv'.format(i)\n",
    "    with open(csv_file_path, mode='w', newline='') as file:\n",
    "        writer = csv.writer(file)\n",
    "        for row in data:\n",
    "            writer.writerow(row)"
   ]
  }
 ],
 "metadata": {
  "kernelspec": {
   "display_name": "Python 3 (ipykernel)",
   "language": "python",
   "name": "python3"
  },
  "language_info": {
   "codemirror_mode": {
    "name": "ipython",
    "version": 3
   },
   "file_extension": ".py",
   "mimetype": "text/x-python",
   "name": "python",
   "nbconvert_exporter": "python",
   "pygments_lexer": "ipython3",
   "version": "3.12.5"
  }
 },
 "nbformat": 4,
 "nbformat_minor": 5
}
