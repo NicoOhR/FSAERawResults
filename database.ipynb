{
 "cells": [
  {
   "cell_type": "code",
   "execution_count": 7,
   "id": "38c18737",
   "metadata": {},
   "outputs": [],
   "source": [
    "import sqlite3 as sql\n",
    "import os\n",
    "import pandas as pd\n",
    "\n",
    "con = sql.connect(\"race.db\")\n",
    "\n",
    "cur = con.cursor()"
   ]
  },
  {
   "cell_type": "code",
   "execution_count": 12,
   "id": "a6fd216b-5759-40de-bb02-25696a6d7ed1",
   "metadata": {},
   "outputs": [
    {
     "name": "stdout",
     "output_type": "stream",
     "text": [
      "('overall', '.csv')\n",
      "('autocross', '.csv')\n",
      "('efficiency', '.csv')\n",
      "('design', '.csv')\n",
      "('cost', '.csv')\n",
      "('presentation', '.csv')\n",
      "('enduranceLap', '.csv')\n",
      "('endurance', '.csv')\n",
      "('accel', '.csv')\n",
      "('skid', '.csv')\n"
     ]
    }
   ],
   "source": [
    "directory = \"Csv_Data\"\n",
    "csv_files = []\n",
    "\n",
    "for fname in os.listdir(directory):\n",
    "    f = os.path.join(directory,fname)\n",
    "    if not (os.path.isfile(f)) and not fname.startswith(\".\"):\n",
    "        f = os.path.join(f, fname) + \".csv\"\n",
    "        csv_files.append(f)"
   ]
  },
  {
   "cell_type": "code",
   "execution_count": 13,
   "id": "27735f36-96d3-4aa4-bc2d-ae467e08af4a",
   "metadata": {},
   "outputs": [],
   "source": [
    "for f in csv_files:\n",
    "    name, extension = os.path.splitext(os.path.basename(f))\n",
    "    df = pd.read_csv(f)\n",
    "    df.columns = ['_'.join(col).strip() for col in df.columns.values]\n",
    "    df.to_sql(name + \"_results\", con, if_exists='replace', index=False)"
   ]
  }
 ],
 "metadata": {
  "kernelspec": {
   "display_name": "Python 3 (ipykernel)",
   "language": "python",
   "name": "python3"
  },
  "language_info": {
   "codemirror_mode": {
    "name": "ipython",
    "version": 3
   },
   "file_extension": ".py",
   "mimetype": "text/x-python",
   "name": "python",
   "nbconvert_exporter": "python",
   "pygments_lexer": "ipython3",
   "version": "3.10.12"
  }
 },
 "nbformat": 4,
 "nbformat_minor": 5
}
