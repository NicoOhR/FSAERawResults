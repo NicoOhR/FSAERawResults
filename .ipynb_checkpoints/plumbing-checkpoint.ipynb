{
 "cells": [
  {
   "cell_type": "code",
   "execution_count": 10,
   "id": "debfed6b-4c92-4563-9574-4a19c13c8dfd",
   "metadata": {},
   "outputs": [],
   "source": [
    "import pdfplumber\n",
    "\n",
    "tables = []\n",
    "\n",
    "with pdfplumber.open(\"Text_Data/fsae_2024_results.pdf\") as pdf:\n",
    "    for page in pdf.pages:\n",
    "        tables.append(page.extract_table())"
   ]
  },
  {
   "cell_type": "code",
   "execution_count": 11,
   "id": "b0cbf19e-38aa-4d75-8405-2a8ba44dbd68",
   "metadata": {
    "scrolled": true
   },
   "outputs": [],
   "source": [
    "import pandas as pd\n",
    "import csv\n",
    "data = tables[1]\n",
    "\n",
    "# Function to reverse and clean up the text\n",
    "# Sometimes necessary because of pdfplumber quirks"
   ]
  },
  {
   "cell_type": "code",
   "execution_count": 12,
   "id": "c15faf50-3f1a-4782-b14e-4f8f799cb4e1",
   "metadata": {},
   "outputs": [],
   "source": [
    "\n",
    "# Table 36 is a none type :/ not sure why\n",
    "del tables[36]\n",
    "# checking the table on page 37, it seems to just be a funcky table, doesn't contain team information"
   ]
  },
  {
   "cell_type": "code",
   "execution_count": 13,
   "id": "e503f936-e30f-45b8-8359-2b75078d8663",
   "metadata": {},
   "outputs": [],
   "source": [
    "for i, data in enumerate(tables):        \n",
    "    # File path for the CSV\n",
    "\n",
    "    csv_file_path = 'Csv_Data/table_{}.csv'.format(i)\n",
    "    with open(csv_file_path, mode='w', newline='') as file:\n",
    "        writer = csv.writer(file)\n",
    "        for row in data:\n",
    "\n",
    "            writer.writerow(row)"
   ]
  },
  {
   "cell_type": "code",
   "execution_count": 14,
   "id": "7bdae79a-6b4f-4a47-8ec3-1ccd329152af",
   "metadata": {},
   "outputs": [],
   "source": [
    "import os\n",
    "import csv\n",
    "def listdir_nohidden(path):\n",
    "    for f in os.listdir(path):\n",
    "        if not f.startswith('.'):\n",
    "            yield f\n",
    "\n",
    "def spring_cleaning(fname):\n",
    "    data = pd.read_csv(fname, header=None)\n",
    "    data.head()\n",
    "    cleaned_header = data.iloc[0].apply(lambda x: x.replace('\\n', ''))\n",
    "    data.columns = cleaned_header\n",
    "    data_cleaned = data.drop(0)\n",
    "    data_cleaned.head()\n",
    "    data_cleaned.to_csv(fname)\n",
    "\n",
    "def spring_cleaning_for_special(fname):\n",
    "    df = pd.read_csv(fname)\n",
    "    df_cleaned = df.map(lambda x: x.replace('\\n', '') if isinstance(x, str) else x)\n",
    "\n",
    "def reverse_first_line_in_file(file_path):\n",
    "    with open(file_path, 'r') as file:\n",
    "        lines = file.readlines()\n",
    "\n",
    "    first_line = lines[0].strip().split(',')\n",
    "    reversed_first_line = [word[::-1] for word in first_line]\n",
    "\n",
    "    new_first_line = ','.join(reversed_first_line) + '\\n'\n",
    "\n",
    "    lines[0] = new_first_line\n",
    "\n",
    "    with open(file_path, 'w') as file:\n",
    "        file.writelines(lines)\n",
    "\n",
    "def reverse_first_line_in_file_for_special(file_path):\n",
    "    with open(file_path, 'r') as file:\n",
    "        lines = file.readlines()\n",
    "\n",
    "    first_line = lines[1].strip().split(',')\n",
    "    reversed_first_line = [word[::-1] for word in first_line]\n",
    "\n",
    "    new_first_line = ','.join(reversed_first_line) + '\\n'\n",
    "\n",
    "    lines[1] = new_first_line\n",
    "\n",
    "    with open(file_path, 'w') as file:\n",
    "        file.writelines(lines)\n"
   ]
  },
  {
   "cell_type": "code",
   "execution_count": 15,
   "id": "c21b7ce8-127a-4487-b36c-7dc66f4d6cbf",
   "metadata": {},
   "outputs": [],
   "source": [
    "for filename in listdir_nohidden(\"./Csv_Data\"):\n",
    "    try:\n",
    "        spring_cleaning(os.path.join(\"./Csv_Data\", filename))\n",
    "        reverse_first_line_in_file(os.path.join(\"./Csv_Data\", filename))\n",
    "    except:\n",
    "        df = pd.read_csv((os.path.join(\"./Csv_Data\", filename)))\n",
    "        df_cleaned = df.map(lambda x: x.replace('\\n', '') if isinstance(x, str) else x)\n",
    "        \n",
    "        df_cleaned.to_csv(os.path.join(\"./Csv_Data\", filename), index=False)\n",
    "        reverse_first_line_in_file_for_special(os.path.join(\"./Csv_Data\", filename))\n",
    "\n",
    "    "
   ]
  }
 ],
 "metadata": {
  "kernelspec": {
   "display_name": "Python 3 (ipykernel)",
   "language": "python",
   "name": "python3"
  },
  "language_info": {
   "codemirror_mode": {
    "name": "ipython",
    "version": 3
   },
   "file_extension": ".py",
   "mimetype": "text/x-python",
   "name": "python",
   "nbconvert_exporter": "python",
   "pygments_lexer": "ipython3",
   "version": "3.12.6"
  }
 },
 "nbformat": 4,
 "nbformat_minor": 5
}
