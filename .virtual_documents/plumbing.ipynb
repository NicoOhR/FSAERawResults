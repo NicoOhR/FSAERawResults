import pdfplumber

tables = []

with pdfplumber.open("Text_Data/fsae_2024_results.pdf") as pdf:
    for page in pdf.pages:
        tables.append(page.extract_table())


import pandas as pd
import csv
data = tables[1]

# Function to reverse and clean up the text
# Sometimes necessary because of pdfplumber quirks



# Table 36 is a none type :/ not sure why
del tables[36]
# checking the table on page 37, it seems to just be a funcky table, doesn't contain team information


for i, data in enumerate(tables):        
    # File path for the CSV

    csv_file_path = 'Csv_Data/table_{}.csv'.format(i)
    with open(csv_file_path, mode='w', newline='') as file:
        writer = csv.writer(file)
        for row in data:

            writer.writerow(row)


import os
import csv
def listdir_nohidden(path):
    for f in os.listdir(path):
        if not f.startswith('.'):
            yield f

def spring_cleaning(fname):
    data = pd.read_csv(fname, header=None)
    data.head()
    cleaned_header = data.iloc[0].apply(lambda x: x.replace('\n', ''))
    data.columns = cleaned_header
    data_cleaned = data.drop(0)
    data_cleaned.head()
    data_cleaned.to_csv(fname)

def spring_cleaning_for_special(fname):
    df = pd.read_csv(fname)
    df_cleaned = df.map(lambda x: x.replace('\n', '') if isinstance(x, str) else x)

def reverse_first_line_in_file(file_path):
    with open(file_path, 'r') as file:
        lines = file.readlines()

    first_line = lines[0].strip().split(',')
    reversed_first_line = [word[::-1] for word in first_line]

    new_first_line = ','.join(reversed_first_line) + '\n'

    lines[0] = new_first_line

    with open(file_path, 'w') as file:
        file.writelines(lines)

def reverse_first_line_in_file_for_special(file_path):
    with open(file_path, 'r') as file:
        lines = file.readlines()

    first_line = lines[1].strip().split(',')
    reversed_first_line = [word[::-1] for word in first_line]

    new_first_line = ','.join(reversed_first_line) + '\n'

    lines[1] = new_first_line

    with open(file_path, 'w') as file:
        file.writelines(lines)



for filename in listdir_nohidden("./Csv_Data"):
    try:
        spring_cleaning(os.path.join("./Csv_Data", filename))
        reverse_first_line_in_file(os.path.join("./Csv_Data", filename))
    except:
        df = pd.read_csv((os.path.join("./Csv_Data", filename)))
        df_cleaned = df.map(lambda x: x.replace('\n', '') if isinstance(x, str) else x)
        
        df_cleaned.to_csv(os.path.join("./Csv_Data", filename), index=False)
        reverse_first_line_in_file_for_special(os.path.join("./Csv_Data", filename))

    
