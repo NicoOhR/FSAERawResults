import pandas as pd
import os

os.chdir('/home/nimoor/FSAERawResults')
# Load the CSV files
csv_38 = pd.read_csv('Csv_Data_w_weight/table_38.csv')
csv_39 = pd.read_csv('Csv_Data_w_weight/table_39.csv')  # Skip the first line
csv_40 = pd.read_csv('Csv_Data_w_weight/table_40.csv')  # Skip the first line
csv_38.drop(columns=['Unnamed: 0'], inplace=True)
csv_39.drop(columns=['Unnamed: 0'], inplace=True)
csv_40.drop(columns=['Unnamed: 0'], inplace=True)
combined_csv = pd.concat([csv_38, csv_39, csv_40], ignore_index=True)

print(combined_csv.columns)
combined_csv.to_csv('team_information.csv', index=False)
