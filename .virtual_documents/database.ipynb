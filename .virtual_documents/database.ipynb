import sqlite3 as sql
import os
import pandas as pd

con = sql.connect("race.db")

cur = con.cursor()


directory = "Csv_Data"
csv_files = []

for fname in os.listdir(directory):
    f = os.path.join(directory,fname)
    if not (os.path.isfile(f)) and not fname.startswith("."):
        f = os.path.join(f, fname) + ".csv"
        csv_files.append(f)


for f in csv_files:
    name, extension = os.path.splitext(os.path.basename(f))
    df = pd.read_csv(f)
    df.columns = ['_'.join(col).strip() for col in df.columns.values]
    df.to_sql(name + "_results", con, if_exists='replace', index=False)


def get_column_names(table_name):
    cur.execute(f"PRAGMA table_info({table_name});")
    columns = cur.fetchall()
    column_names = [col[1] for col in columns]  # The column name is the second item in each row
    return column_names



cur.execute("SELECT name FROM sqlite_master WHERE type='table';")
tables = cur.fetchall()
table_names = [table[0] for table in tables]
for t in table_names:
    columns = get_column_names(t)
    for c in columns:
        command = f'ALTER TABLE "{t}" RENAME COLUMN "{c}" TO "{c.replace("_", "")}";'
        cur.execute(command)


for t in table_names:
    columns = get_column_names(t)
    if "Unnamed: 0" in columns:
        columns.remove("Unnamed: 0")
        quoted_columns = [f'"{col}"' for col in columns]
        columns_str = ', '.join(quoted_columns)
        new_table = f"{t}_new"
        create_new_table = f'CREATE TABLE {new_table} AS SELECT {columns_str} FROM {t};'
        cur.execute(create_new_table)
        cur.execute(f'DROP TABLE {t};')
        cur.execute(f'ALTER TABLE {new_table} RENAME TO {t};')


for t in table_names:
    columns = get_column_names(t)
    for c in columns:
        print(c)
