import sqlite3 as sql
import os
import pandas as pd

con = sql.connect("race.db")

cur = con.cursor()


directory = "Csv_Data"
csv_files = []

for fname in os.listdir(directory):
    f = os.path.join(directory,fname)
    if not (os.path.isfile(f)) and not fname.startswith("."):
        f = os.path.join(f, fname) + ".csv"
        csv_files.append(f)


for f in csv_files:
    name, extension = os.path.splitext(os.path.basename(f))
    df = pd.read_csv(f)
    df.columns = ['_'.join(col).strip() for col in df.columns.values]
    df.to_sql(name + "_results", con, if_exists='replace', index=False)
